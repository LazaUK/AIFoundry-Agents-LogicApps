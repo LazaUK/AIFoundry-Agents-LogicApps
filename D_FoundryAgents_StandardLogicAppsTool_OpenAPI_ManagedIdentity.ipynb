{
 "cells": [
  {
   "cell_type": "markdown",
   "id": "595a0707",
   "metadata": {},
   "source": [
    "## Azure AI Foundry Agent Service: Logic App (Standard) tools"
   ]
  },
  {
   "cell_type": "markdown",
   "id": "0fffe4a5",
   "metadata": {},
   "source": [
    "This notebook demonstrates the setup and use of Azure Standard-type Logic Apps as a tool for Azure AI Foundry's Agent Service, using OpenAPI schema integration."
   ]
  },
  {
   "cell_type": "markdown",
   "id": "bfa2c4ea",
   "metadata": {},
   "source": [
    "### Environment Setup"
   ]
  },
  {
   "cell_type": "code",
   "execution_count": 1,
   "id": "cb4b06ec",
   "metadata": {},
   "outputs": [],
   "source": [
    "# Import required packages\n",
    "import os\n",
    "from typing import Dict, Any\n",
    "from urllib.parse import urlparse, parse_qs\n",
    "\n",
    "from azure.identity import DefaultAzureCredential\n",
    "from azure.mgmt.web import WebSiteManagementClient \n",
    "\n",
    "from azure.ai.projects import AIProjectClient\n",
    "from azure.ai.agents.models import (\n",
    "    OpenApiTool,\n",
    "    OpenApiManagedAuthDetails,\n",
    "    OpenApiManagedSecurityScheme\n",
    ")"
   ]
  },
  {
   "cell_type": "code",
   "execution_count": 2,
   "id": "74de2d6a",
   "metadata": {},
   "outputs": [],
   "source": [
    "# Set environment variables\n",
    "PROJECT_ENDPOINT = os.environ.get(\"AZURE_FOUNDRY_PROJECT_ENDPOINT\")\n",
    "MODEL_DEPLOYMENT = os.environ.get(\"AZURE_FOUNDRY_GPT_MODEL\")\n",
    "SUBSCRIPTION_ID = os.environ.get(\"AZURE_SUBSCRIPTION_ID\")\n",
    "RESOURCE_GROUP = os.environ.get(\"RESOURCE_GROUP_NAME\", \"App_LogicApp\")\n",
    "\n",
    "LOGIC_APP_NAME = \"Laziz-StandardLA\"     # Your Standard Logic App name\n",
    "WORKFLOW_NAME = \"lazizdemologicapp\"     # Your workflow inside the Standard Logic App\n",
    "TRIGGER_NAME = \"HTTP-trigger-standard\"  # Your HTTP trigger name"
   ]
  },
  {
   "cell_type": "markdown",
   "id": "76fdf5cf",
   "metadata": {},
   "source": [
    "### Helper Class - Logic Apps Integration"
   ]
  },
  {
   "cell_type": "code",
   "execution_count": 3,
   "id": "7c7a57a1",
   "metadata": {},
   "outputs": [
    {
     "name": "stdout",
     "output_type": "stream",
     "text": [
      "Standard Logic App Integration class (Easy Auth) successfully defined\n"
     ]
    }
   ],
   "source": [
    "# Logic App Integration class for Standard Logic Apps with Easy Auth\n",
    "class StandardLogicAppsIntegration:\n",
    "    \"\"\"\n",
    "    Integration class for Standard Logic Apps using Easy Auth (Managed Identity).\n",
    "    \"\"\"\n",
    "    \n",
    "    def __init__(self, subscription_id: str, resource_group: str, credential=None):\n",
    "        if credential is None:\n",
    "            credential = DefaultAzureCredential()\n",
    "        \n",
    "        self.subscription_id = subscription_id\n",
    "        self.resource_group = resource_group\n",
    "        self.credential = credential\n",
    "        self.web_client = WebSiteManagementClient(credential, subscription_id)\n",
    "    \n",
    "    def get_callback_url(self, logic_app_name: str, workflow_name: str, trigger_name: str) -> str:\n",
    "        \"\"\"Get the callback URL for a Standard Logic App workflow trigger.\"\"\"\n",
    "        try:\n",
    "            callback = self.web_client.workflow_triggers.list_callback_url(\n",
    "                resource_group_name = self.resource_group,\n",
    "                name = logic_app_name,\n",
    "                workflow_name = workflow_name,\n",
    "                trigger_name = trigger_name\n",
    "            )\n",
    "            \n",
    "            if callback.value is None:\n",
    "                raise ValueError(\n",
    "                    f\"No callback URL returned for workflow '{workflow_name}' \"\n",
    "                    f\"in Logic App '{logic_app_name}'.\"\n",
    "                )\n",
    "            \n",
    "            print(f\"Retrieved callback URL for workflow: {workflow_name}\")\n",
    "            return callback.value\n",
    "            \n",
    "        except Exception as e:\n",
    "            print(f\"Error getting callback URL: {e}\")\n",
    "            raise\n",
    "    \n",
    "    def create_direct_openapi_spec(self, callback_url: str, workflow_description: str = None) -> Dict[str, Any]:\n",
    "        \"\"\"\n",
    "        Create OpenAPI spec for Standard Logic App with Easy Auth.\n",
    "        \"\"\"\n",
    "        print(\"Creating OpenAPI spec with Easy Auth (Managed Identity)...\")\n",
    "\n",
    "        if workflow_description is None:\n",
    "            workflow_description = \"Standard Logic App workflow endpoint with Easy Auth\"\n",
    "\n",
    "        # Parse URL and use ONLY the base path, no SAS query parameters\n",
    "        parsed_url = urlparse(callback_url)\n",
    "        base_url = f\"{parsed_url.scheme}://{parsed_url.netloc}{parsed_url.path}\"\n",
    "        \n",
    "        # print(f\"Base URL (without SAS): {base_url}\")\n",
    "        \n",
    "        openapi_spec = {\n",
    "            \"openapi\": \"3.0.0\",\n",
    "            \"info\": {\n",
    "                \"title\": \"Standard Logic App Weather API\",\n",
    "                \"version\": \"1.0.0\",\n",
    "                \"description\": \"Standard Logic App with Easy Auth managed identity authentication\"\n",
    "            },\n",
    "            \"servers\": [{\"url\": base_url}],\n",
    "            \"paths\": {\n",
    "                \"/\": {\n",
    "                    \"post\": {\n",
    "                        \"operationId\": \"get_weather\",\n",
    "                        \"summary\": \"Get weather information\",\n",
    "                        \"description\": workflow_description,\n",
    "                        # No query parameters - Easy Auth uses Bearer token in header\n",
    "                        \"requestBody\": {\n",
    "                            \"required\": True,\n",
    "                            \"content\": {\n",
    "                                \"application/json\": {\n",
    "                                    \"schema\": {\n",
    "                                        \"type\": \"object\",\n",
    "                                        \"properties\": {\n",
    "                                            \"Location\": {\n",
    "                                                \"type\": \"string\",\n",
    "                                                \"description\": \"The location to get weather for\",\n",
    "                                                \"example\": \"London\"\n",
    "                                            }\n",
    "                                        },\n",
    "                                        \"required\": [\"Location\"]\n",
    "                                    }\n",
    "                                }\n",
    "                            }\n",
    "                        },\n",
    "                        \"responses\": {\n",
    "                            \"200\": {\n",
    "                                \"description\": \"Weather information\",\n",
    "                                \"content\": {\n",
    "                                    \"application/json\": {\n",
    "                                        \"schema\": {\n",
    "                                            \"type\": \"object\",\n",
    "                                            \"description\": \"Weather forecast data\"\n",
    "                                        }\n",
    "                                    }\n",
    "                                }\n",
    "                            },\n",
    "                            \"202\": {\n",
    "                                \"description\": \"Accepted - workflow started asynchronously\",\n",
    "                                \"content\": {\n",
    "                                    \"application/json\": {\n",
    "                                        \"schema\": {\n",
    "                                            \"type\": \"object\"\n",
    "                                        }\n",
    "                                    }\n",
    "                                }\n",
    "                            },\n",
    "                            \"401\": {\n",
    "                                \"description\": \"Unauthorized - invalid or missing Bearer token\"\n",
    "                            },\n",
    "                            \"403\": {\n",
    "                                \"description\": \"Forbidden - token valid but identity not authorized\"\n",
    "                            }\n",
    "                        },\n",
    "                        \"security\": [\n",
    "                            {\n",
    "                                \"oauth2\": []\n",
    "                            }\n",
    "                        ]\n",
    "                    }\n",
    "                }\n",
    "            },\n",
    "            \"components\": {\n",
    "                \"securitySchemes\": {\n",
    "                    \"oauth2\": {\n",
    "                        \"type\": \"oauth2\",\n",
    "                        \"flows\": {\n",
    "                            \"clientCredentials\": {\n",
    "                                \"tokenUrl\": \"https://login.microsoftonline.com/common/oauth2/v2.0/token\",\n",
    "                                \"scopes\": {}\n",
    "                            }\n",
    "                        }\n",
    "                    }\n",
    "                }\n",
    "            }\n",
    "        }\n",
    "\n",
    "        print(\"Successfully created OpenAPI spec with Easy Auth\")\n",
    "        return openapi_spec\n",
    "    \n",
    "    def create_openapi_tool(self, logic_app_name: str, workflow_name: str, \n",
    "                          trigger_name: str, tool_name: str = None,\n",
    "                          tool_description: str = None) -> tuple[OpenApiTool, str]:\n",
    "        \"\"\"\n",
    "        Create OpenAPI tool for Standard Logic App with Easy Auth.\n",
    "        \"\"\"\n",
    "        callback_url = self.get_callback_url(logic_app_name, workflow_name, trigger_name)\n",
    "        openapi_spec = self.create_direct_openapi_spec(callback_url, workflow_description=tool_description)\n",
    "        \n",
    "        if not tool_name:\n",
    "            tool_name = \"get_weather\"\n",
    "        if not tool_description:\n",
    "            tool_description = \"Get weather forecast for any location via Standard Logic App\"\n",
    "        \n",
    "        # CRITICAL: Use the App Registration Client ID as the audience\n",
    "        # This is the clientId from your Easy Auth configuration\n",
    "        client_id = \"170bd90b-ead7-45f1-a809-aa7f9bc446db\"  # From your Easy Auth config\n",
    "        audience = f\"api://{client_id}\"\n",
    "    \n",
    "        auth = OpenApiManagedAuthDetails(\n",
    "            security_scheme = OpenApiManagedSecurityScheme(\n",
    "                audience = audience\n",
    "            )\n",
    "        )\n",
    "        \n",
    "        tool = OpenApiTool(\n",
    "            name = tool_name,\n",
    "            spec = openapi_spec,\n",
    "            description = tool_description,\n",
    "            auth = auth\n",
    "        )\n",
    "        \n",
    "        print(f\"Created OpenAPI tool with Easy Auth: {tool_name}\")\n",
    "        # print(f\"Using audience: {audience}\")\n",
    "        return tool, tool_name\n",
    "\n",
    "print(\"Standard Logic App Integration class (Easy Auth) successfully defined\")"
   ]
  },
  {
   "cell_type": "markdown",
   "id": "92cc3a9a",
   "metadata": {},
   "source": [
    "### Logic Apps Tool Setup"
   ]
  },
  {
   "cell_type": "code",
   "execution_count": 4,
   "id": "e2526b4c",
   "metadata": {},
   "outputs": [
    {
     "name": "stdout",
     "output_type": "stream",
     "text": [
      "Initialising Standard Logic App integration...\n",
      "Standard Logic App integration initialised successfully\n"
     ]
    }
   ],
   "source": [
    "# Initialise Standard Logic App integration\n",
    "print(\"Initialising Standard Logic App integration...\")\n",
    "logic_integration = StandardLogicAppsIntegration(\n",
    "    subscription_id = SUBSCRIPTION_ID,\n",
    "    resource_group = RESOURCE_GROUP\n",
    ")\n",
    "\n",
    "print(\"Standard Logic App integration initialised successfully\")"
   ]
  },
  {
   "cell_type": "code",
   "execution_count": 5,
   "id": "509144d5",
   "metadata": {},
   "outputs": [
    {
     "name": "stdout",
     "output_type": "stream",
     "text": [
      "Creating OpenAPI tool for Standard Logic App workflow...\n",
      "Retrieved callback URL for workflow: lazizdemologicapp\n",
      "Creating OpenAPI spec with Easy Auth (Managed Identity)...\n",
      "Successfully created OpenAPI spec with Easy Auth\n",
      "Created OpenAPI tool with Easy Auth: get_weather\n",
      "OpenAPI tool created successfully: get_weather\n"
     ]
    }
   ],
   "source": [
    "# Create OpenAPI Tool for Standard Logic App\n",
    "print(\"Creating OpenAPI tool for Standard Logic App workflow...\")\n",
    "openapi_tool, tool_name = logic_integration.create_openapi_tool(\n",
    "    logic_app_name = LOGIC_APP_NAME,\n",
    "    workflow_name = WORKFLOW_NAME,\n",
    "    trigger_name = TRIGGER_NAME,\n",
    "    tool_name = \"get_weather\",\n",
    "    tool_description = \"Get weather forecast for any location\"\n",
    ")\n",
    "\n",
    "print(f\"OpenAPI tool created successfully: {tool_name}\")"
   ]
  },
  {
   "cell_type": "code",
   "execution_count": 6,
   "id": "eab69de7",
   "metadata": {},
   "outputs": [
    {
     "name": "stdout",
     "output_type": "stream",
     "text": [
      "Checking Easy Auth configuration for Logic App...\n",
      "Logic App: Laziz-StandardLA\n",
      "Resource Group: App_LogicApp\n",
      "--------------------------------------------------\n",
      "Auth Settings Type: <class 'azure.mgmt.web.models._models_py3.SiteAuthSettingsV2'>\n",
      "Available attributes: ['__annotations__', '__class__', '__delattr__', '__dict__', '__dir__', '__doc__', '__eq__', '__format__', '__ge__', '__getattribute__', '__getstate__', '__gt__', '__hash__', '__init__', '__init_subclass__', '__le__', '__lt__', '__module__', '__ne__', '__new__', '__reduce__', '__reduce_ex__', '__repr__', '__setattr__', '__sizeof__', '__str__', '__subclasshook__', '__weakref__', '_attribute_map', '_classify', '_create_xml_node', '_flatten_subtype', '_get_rest_key_parts', '_infer_class_models', '_subtype_map', '_validation', 'additional_properties', 'as_dict', 'deserialize', 'enable_additional_properties_sending', 'from_dict', 'global_validation', 'http_settings', 'id', 'identity_providers', 'is_xml_model', 'kind', 'login', 'name', 'platform', 'serialize', 'type']\n",
      "\n",
      "Easy Auth Status:\n",
      "  Platform Enabled: True\n",
      "  Require Authentication: True\n",
      "  Unauthenticated Action: AllowAnonymous\n",
      "\n",
      "Azure AD Configuration:\n",
      "  Enabled: True\n"
     ]
    }
   ],
   "source": [
    "# Debug: Check Easy Auth Configuration\n",
    "print(\"Checking Easy Auth configuration for Logic App...\")\n",
    "print(f\"Logic App: {LOGIC_APP_NAME}\")\n",
    "print(f\"Resource Group: {RESOURCE_GROUP}\")\n",
    "print(\"-\" * 50)\n",
    "\n",
    "try:\n",
    "    # Get the auth settings for the Logic App\n",
    "    auth_settings = logic_integration.web_client.web_apps.get_auth_settings_v2(\n",
    "        resource_group_name=RESOURCE_GROUP,\n",
    "        name=LOGIC_APP_NAME\n",
    "    )\n",
    "    \n",
    "    print(f\"Auth Settings Type: {type(auth_settings)}\")\n",
    "    print(f\"Available attributes: {dir(auth_settings)}\")\n",
    "    print()\n",
    "    \n",
    "    # Try to access the settings directly\n",
    "    print(\"Easy Auth Status:\")\n",
    "    \n",
    "    # Check if platform is enabled\n",
    "    if hasattr(auth_settings, 'platform') and auth_settings.platform:\n",
    "        print(f\"  Platform Enabled: {auth_settings.platform.enabled}\")\n",
    "    \n",
    "    # Check global validation\n",
    "    if hasattr(auth_settings, 'global_validation') and auth_settings.global_validation:\n",
    "        print(f\"  Require Authentication: {auth_settings.global_validation.require_authentication}\")\n",
    "        print(f\"  Unauthenticated Action: {auth_settings.global_validation.unauthenticated_client_action}\")\n",
    "    \n",
    "    # Check Azure AD configuration\n",
    "    if hasattr(auth_settings, 'identity_providers') and auth_settings.identity_providers:\n",
    "        aad = auth_settings.identity_providers.azure_active_directory\n",
    "        if aad and aad.enabled:\n",
    "            print(\"\\nAzure AD Configuration:\")\n",
    "            print(f\"  Enabled: {aad.enabled}\")\n",
    "            \n",
    "            # if hasattr(aad, 'registration') and aad.registration:\n",
    "            #     print(f\"  OpenID Issuer: {aad.registration.open_id_issuer}\")\n",
    "            #     print(f\"  Client ID: {aad.registration.client_id}\")\n",
    "            \n",
    "            # if hasattr(aad, 'validation') and aad.validation:\n",
    "            #     if hasattr(aad.validation, 'allowed_audiences') and aad.validation.allowed_audiences:\n",
    "            #         print(f\"  Allowed Audiences:\")\n",
    "            #         for aud in aad.validation.allowed_audiences:\n",
    "            #             print(f\"    - {aud}\")\n",
    "                \n",
    "            #     if hasattr(aad.validation, 'default_authorization_policy') and aad.validation.default_authorization_policy:\n",
    "            #         policy = aad.validation.default_authorization_policy\n",
    "            #         if hasattr(policy, 'allowed_principals') and policy.allowed_principals:\n",
    "            #             if hasattr(policy.allowed_principals, 'identities') and policy.allowed_principals.identities:\n",
    "            #                 print(f\"  Allowed Identities (Object IDs):\")\n",
    "            #                 for identity in policy.allowed_principals.identities:\n",
    "            #                     print(f\"    - {identity}\")\n",
    "        else:\n",
    "            print(\"\\nAzure AD: Not enabled or not found\")\n",
    "    else:\n",
    "        print(\"\\nNo identity providers found\")\n",
    "    \n",
    "    # print(\"-\" * 50)\n",
    "    # print(\"\\nRAW AUTH SETTINGS (for debugging):\")\n",
    "    # print(auth_settings)\n",
    "    \n",
    "except AttributeError as ae:\n",
    "    print(f\"Attribute error: {ae}\")\n",
    "    print(\"\\nTrying alternative access method...\")\n",
    "    \n",
    "    try:\n",
    "        # Try accessing as dictionary\n",
    "        auth_dict = auth_settings.as_dict() if hasattr(auth_settings, 'as_dict') else None\n",
    "        if auth_dict:\n",
    "            import json\n",
    "            print(json.dumps(auth_dict, indent=2))\n",
    "    except Exception as e2:\n",
    "        print(f\"Could not convert to dict: {e2}\")\n",
    "        \n",
    "except Exception as e:\n",
    "    print(f\"Error checking auth settings: {e}\")\n",
    "    print(f\"Error type: {type(e)}\")\n",
    "\n",
    "# print(\"\\n\" + \"=\" * 50)\n",
    "# print(\"AI Foundry Project Information:\")\n",
    "# print(f\"Project Endpoint: {PROJECT_ENDPOINT}\")"
   ]
  },
  {
   "cell_type": "markdown",
   "id": "66fdeb71",
   "metadata": {},
   "source": [
    "### AI Agent Setup"
   ]
  },
  {
   "cell_type": "code",
   "execution_count": 7,
   "id": "31c6724e",
   "metadata": {},
   "outputs": [
    {
     "name": "stdout",
     "output_type": "stream",
     "text": [
      "Initialising AI Project client...\n",
      "AI Project client initialised successfully\n"
     ]
    }
   ],
   "source": [
    "# Initialise AI Project Client\n",
    "print(\"Initialising AI Project client...\")\n",
    "project_client = AIProjectClient(\n",
    "    endpoint = PROJECT_ENDPOINT,\n",
    "    credential = DefaultAzureCredential(),\n",
    ")\n",
    "\n",
    "agents_client = project_client.agents\n",
    "print(\"AI Project client initialised successfully\")"
   ]
  },
  {
   "cell_type": "code",
   "execution_count": 8,
   "id": "4def041d",
   "metadata": {},
   "outputs": [
    {
     "name": "stdout",
     "output_type": "stream",
     "text": [
      "Creating weather agent...\n",
      "Created agent successfully, ID: asst_7iUkzyeipTnldjsWsiPXCL4b\n"
     ]
    }
   ],
   "source": [
    "# Create AI Agent\n",
    "print(\"Creating weather agent...\")\n",
    "agent = agents_client.create_agent(\n",
    "    model = MODEL_DEPLOYMENT,\n",
    "    name = \"standardlogicapp-weather-agent\",\n",
    "    instructions = \"You are a helpful weather assistant. When asked about weather, use the get_weather tool with the location provided by the user.\",\n",
    "    tools = openapi_tool.definitions,\n",
    ")\n",
    "\n",
    "print(f\"Created agent successfully, ID: {agent.id}\")"
   ]
  },
  {
   "cell_type": "code",
   "execution_count": 9,
   "id": "40bcef11",
   "metadata": {},
   "outputs": [
    {
     "name": "stdout",
     "output_type": "stream",
     "text": [
      "Creating conversation thread...\n",
      "Created thread successfully, ID: thread_tr25EVHKNQUzkgwnn5RYLOxl\n"
     ]
    }
   ],
   "source": [
    "# Create Thread\n",
    "print(\"Creating conversation thread...\")\n",
    "thread = agents_client.threads.create()\n",
    "\n",
    "print(f\"Created thread successfully, ID: {thread.id}\")"
   ]
  },
  {
   "cell_type": "code",
   "execution_count": 10,
   "id": "a09b36b8",
   "metadata": {},
   "outputs": [
    {
     "name": "stdout",
     "output_type": "stream",
     "text": [
      "Creating message and running agent...\n",
      "Created message, ID: msg_Tb4y0Ao3GYFQoEQlBPorerLD\n",
      "Run finished with status: RunStatus.COMPLETED\n"
     ]
    }
   ],
   "source": [
    "# Create Message and Run\n",
    "print(\"Creating message and running agent...\")\n",
    "message = agents_client.messages.create(\n",
    "    thread_id = thread.id,\n",
    "    role = \"user\",\n",
    "    content = \"What's the weather in London?\",\n",
    ")\n",
    "\n",
    "print(f\"Created message, ID: {message.id}\")\n",
    "\n",
    "# Create and process run\n",
    "run = agents_client.runs.create_and_process(\n",
    "    thread_id = thread.id,\n",
    "    agent_id = agent.id\n",
    ")\n",
    "\n",
    "print(f\"Run finished with status: {run.status}\")\n",
    "\n",
    "if run.status == \"failed\":\n",
    "    print(f\"Run failed: {run.last_error}\")"
   ]
  },
  {
   "cell_type": "code",
   "execution_count": 11,
   "id": "967d3625",
   "metadata": {},
   "outputs": [
    {
     "name": "stdout",
     "output_type": "stream",
     "text": [
      "Displaying conversation results...\n",
      "Found 3 messages\n",
      "--------------------------------------------------\n",
      "User: What's the weather in London?\n",
      "--------------------------------------------------\n",
      "Assistant: It seems I encountered an issue while trying to get the weather for London. Let me try again.\n",
      "--------------------------------------------------\n",
      "Assistant: I am currently experiencing technical difficulties retrieving the weather information for London. Please try again later. If you want, I can help with something else!\n",
      "--------------------------------------------------\n"
     ]
    }
   ],
   "source": [
    "# Display Results\n",
    "print(\"Displaying conversation results...\")\n",
    "messages = agents_client.messages.list(thread_id=thread.id)\n",
    "messages_list = list(messages)\n",
    "print(f\"Found {len(messages_list)} messages\")\n",
    "print(\"-\" * 50)\n",
    "\n",
    "for i, msg in enumerate(reversed(messages_list)):  # Reverse to show chronological order\n",
    "    role = msg.role.capitalize()\n",
    "    \n",
    "    if hasattr(msg, 'content') and msg.content:\n",
    "        try:\n",
    "            if hasattr(msg.content[0], 'text') and hasattr(msg.content[0].text, 'value'):\n",
    "                content = msg.content[0].text.value\n",
    "            else:\n",
    "                content = str(msg.content[0])\n",
    "        except (IndexError, AttributeError):\n",
    "            content = \"No readable content\"\n",
    "    else:\n",
    "        content = \"No content\"\n",
    "    \n",
    "    print(f\"{role}: {content}\")\n",
    "    print(\"-\" * 50)"
   ]
  },
  {
   "cell_type": "markdown",
   "id": "housekeeping_section",
   "metadata": {},
   "source": [
    "### Housekeeping"
   ]
  },
  {
   "cell_type": "code",
   "execution_count": 12,
   "id": "housekeeping_code",
   "metadata": {},
   "outputs": [
    {
     "name": "stdout",
     "output_type": "stream",
     "text": [
      "Deleted thread successfully\n",
      "Deleted weather agent successfully\n",
      "Closed project client connection\n",
      "Cleanup complete!\n"
     ]
    }
   ],
   "source": [
    "# Delete the thread and agent when finished\n",
    "try:\n",
    "    # Delete the thread\n",
    "    agents_client.threads.delete(thread.id)\n",
    "    print(\"Deleted thread successfully\")\n",
    "\n",
    "    # Use the existing agents_client (no need for 'with' block)\n",
    "    agents_client.delete_agent(agent.id)\n",
    "    print(\"Deleted weather agent successfully\")\n",
    "    \n",
    "    # Close the project client\n",
    "    project_client.close()\n",
    "    print(\"Closed project client connection\")\n",
    "    \n",
    "except Exception as e:\n",
    "    print(f\"Error during cleanup: {e}\")\n",
    "\n",
    "print(\"Cleanup complete!\")"
   ]
  }
 ],
 "metadata": {
  "kernelspec": {
   "display_name": "Python 3",
   "language": "python",
   "name": "python3"
  },
  "language_info": {
   "codemirror_mode": {
    "name": "ipython",
    "version": 3
   },
   "file_extension": ".py",
   "mimetype": "text/x-python",
   "name": "python",
   "nbconvert_exporter": "python",
   "pygments_lexer": "ipython3",
   "version": "3.11.9"
  }
 },
 "nbformat": 4,
 "nbformat_minor": 5
}
