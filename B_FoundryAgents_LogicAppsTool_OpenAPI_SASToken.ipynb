{
 "cells": [
  {
   "cell_type": "markdown",
   "id": "595a0707",
   "metadata": {},
   "source": [
    "## Azure AI Foundry Agent Service: Logic App tools"
   ]
  },
  {
   "cell_type": "markdown",
   "id": "0fffe4a5",
   "metadata": {},
   "source": [
    "This notebook demonstrates the setup and use of Azure Logic Apps as a tool for Azure AI Foundry's Agent Service, using OpenAPI schema integration."
   ]
  },
  {
   "cell_type": "markdown",
   "id": "bfa2c4ea",
   "metadata": {},
   "source": [
    "### Environment Setup"
   ]
  },
  {
   "cell_type": "code",
   "execution_count": 1,
   "id": "cb4b06ec",
   "metadata": {},
   "outputs": [],
   "source": [
    "# Import required packages\n",
    "import os\n",
    "from typing import Dict, Any\n",
    "\n",
    "from azure.identity import DefaultAzureCredential\n",
    "from azure.mgmt.logic import LogicManagementClient\n",
    "from azure.ai.projects import AIProjectClient\n",
    "from azure.ai.agents.models import (\n",
    "    OpenApiTool, \n",
    "    OpenApiAnonymousAuthDetails\n",
    ")"
   ]
  },
  {
   "cell_type": "code",
   "execution_count": 2,
   "id": "74de2d6a",
   "metadata": {},
   "outputs": [],
   "source": [
    "# Set environment variables\n",
    "PROJECT_ENDPOINT = os.environ.get(\"AZURE_FOUNDRY_PROJECT_ENDPOINT\")\n",
    "MODEL_DEPLOYMENT = os.environ.get(\"AZURE_FOUNDRY_GPT_MODEL\")\n",
    "SUBSCRIPTION_ID = os.environ.get(\"AZURE_SUBSCRIPTION_ID\")\n",
    "RESOURCE_GROUP = os.environ.get(\"RESOURCE_GROUP_NAME\", \"App_LogicApp\")\n",
    "\n",
    "LOGIC_APP_NAME = \"Laziz_DemoConsLA\"  # Replace with your Logic App name\n",
    "TRIGGER_NAME = \"HTTP-Trigger\"  # Your trigger name (from your Logic App definition)"
   ]
  },
  {
   "cell_type": "markdown",
   "id": "76fdf5cf",
   "metadata": {},
   "source": [
    "### Helper Class - Logic Apps Integration"
   ]
  },
  {
   "cell_type": "code",
   "execution_count": null,
   "id": "7c7a57a1",
   "metadata": {},
   "outputs": [
    {
     "name": "stdout",
     "output_type": "stream",
     "text": [
      "Logic App Integration class was successfully defined\n"
     ]
    }
   ],
   "source": [
    "# Logic App Integration class\n",
    "class LogicAppsIntegration:\n",
    "    \"\"\"\n",
    "    This class uses Logic Apps callback URL as-is.\n",
    "    \"\"\"\n",
    "    \n",
    "    def __init__(self, subscription_id: str, resource_group: str, credential=None):\n",
    "        if credential is None:\n",
    "            credential = DefaultAzureCredential()\n",
    "        \n",
    "        self.subscription_id = subscription_id\n",
    "        self.resource_group = resource_group\n",
    "        self.credential = credential\n",
    "        self.logic_client = LogicManagementClient(credential, subscription_id)\n",
    "    \n",
    "    def get_callback_url(self, logic_app_name: str, trigger_name: str) -> str:\n",
    "        \"\"\"Get the actual callback URL from Logic App.\"\"\"\n",
    "        try:\n",
    "            callback = self.logic_client.workflow_triggers.list_callback_url(\n",
    "                resource_group_name = self.resource_group,\n",
    "                workflow_name = logic_app_name,\n",
    "                trigger_name = trigger_name,\n",
    "            )\n",
    "            \n",
    "            if callback.value is None:\n",
    "                raise ValueError(f\"No callback URL returned for Logic App '{logic_app_name}'.\")\n",
    "            \n",
    "            print(f\"Retrieved Logic Apps callback URL\")\n",
    "            return callback.value\n",
    "            \n",
    "        except Exception as e:\n",
    "            print(f\"Error getting callback URL: {e}\")\n",
    "            raise\n",
    "    \n",
    "    def create_direct_openapi_spec(self, callback_url: str) -> Dict[str, Any]:\n",
    "        \"\"\"\n",
    "        Create a minimal OpenAPI 3.0 spec that uses the callback URL directly.\n",
    "        \"\"\"\n",
    "        print(\"Creating direct OpenAPI spec using callback URL...\")\n",
    "        \n",
    "        openapi_spec = {\n",
    "            \"openapi\": \"3.0.0\",\n",
    "            \"info\": {\n",
    "                \"title\": \"Logic App Weather API\",\n",
    "                \"version\": \"1.0.0\",\n",
    "                \"description\": \"Direct access to Logic App via callback URL\"\n",
    "            },\n",
    "            \"servers\": [{\"url\": callback_url.split('?')[0]}], # Callback URL contains auth params\n",
    "            \"paths\": {\n",
    "                \"/\": {\n",
    "                    \"post\": {\n",
    "                        \"operationId\": \"get_weather\",\n",
    "                        \"summary\": \"Get weather information\",\n",
    "                        \"description\": \"Get weather forecast for a location\",\n",
    "                        \"parameters\": self._extract_query_params(callback_url),\n",
    "                        \"requestBody\": {\n",
    "                            \"required\": True,\n",
    "                            \"content\": {\n",
    "                                \"application/json\": {\n",
    "                                    \"schema\": {\n",
    "                                        \"type\": \"object\",\n",
    "                                        \"properties\": {\n",
    "                                            \"Location\": {\n",
    "                                                \"type\": \"string\",\n",
    "                                                \"description\": \"The location to get weather for\",\n",
    "                                                \"example\": \"London\"\n",
    "                                            }\n",
    "                                        },\n",
    "                                        \"required\": [\"Location\"]\n",
    "                                    }\n",
    "                                }\n",
    "                            }\n",
    "                        },\n",
    "                        \"responses\": {\n",
    "                            \"200\": {\n",
    "                                \"description\": \"Weather information\",\n",
    "                                \"content\": {\n",
    "                                    \"application/json\": {\n",
    "                                        \"schema\": {\n",
    "                                            \"type\": \"object\",\n",
    "                                            \"description\": \"Weather forecast data\"\n",
    "                                        }\n",
    "                                    }\n",
    "                                }\n",
    "                            },\n",
    "                            \"default\": {\n",
    "                                \"description\": \"Error response\",\n",
    "                                \"content\": {\n",
    "                                    \"application/json\": {\n",
    "                                        \"schema\": {\n",
    "                                            \"type\": \"object\"\n",
    "                                        }\n",
    "                                    }\n",
    "                                }\n",
    "                            }\n",
    "                        }\n",
    "                    }\n",
    "                }\n",
    "            }\n",
    "        }\n",
    "        \n",
    "        print(\"Successfully created OpenAPI spec.\")\n",
    "        return openapi_spec\n",
    "    \n",
    "    def _extract_query_params(self, callback_url: str) -> list:\n",
    "        \"\"\"Extract query parameters from callback URL and make them fixed parameters.\"\"\"\n",
    "        from urllib.parse import urlparse, parse_qs\n",
    "        \n",
    "        parsed = urlparse(callback_url)\n",
    "        query_params = parse_qs(parsed.query)\n",
    "        \n",
    "        parameters = []\n",
    "        for param_name, param_values in query_params.items():\n",
    "            if param_values:\n",
    "                parameters.append({\n",
    "                    \"name\": param_name,\n",
    "                    \"in\": \"query\",\n",
    "                    \"required\": True,\n",
    "                    \"schema\": {\n",
    "                        \"type\": \"string\",\n",
    "                        \"default\": param_values[0]\n",
    "                    }\n",
    "                })\n",
    "        \n",
    "        print(f\"Extracted {len(parameters)} query parameters from callback URL\")\n",
    "        return parameters\n",
    "    \n",
    "    def create_openapi_tool(self, logic_app_name: str, trigger_name: str,\n",
    "                          tool_name: str = None,\n",
    "                          tool_description: str = None) -> tuple[OpenApiTool, str]:\n",
    "        \"\"\"\n",
    "        Create OpenAPI tool using direct callback URL approach.\n",
    "        \"\"\"\n",
    "        # Get the actual callback URL\n",
    "        callback_url = self.get_callback_url(logic_app_name, trigger_name)\n",
    "        \n",
    "        # Create a minimal OpenAPI spec that uses this URL directly\n",
    "        openapi_spec = self.create_direct_openapi_spec(callback_url)\n",
    "        \n",
    "        # Set defaults\n",
    "        if not tool_name:\n",
    "            tool_name = \"get_weather\"\n",
    "        if not tool_description:\n",
    "            tool_description = \"Get weather forecast for any location\"\n",
    "        \n",
    "        # Use anonymous auth as callback URL contains auth\n",
    "        auth = OpenApiAnonymousAuthDetails()\n",
    "        \n",
    "        # Create the tool\n",
    "        tool = OpenApiTool(\n",
    "            name = tool_name,\n",
    "            spec = openapi_spec,\n",
    "            description = tool_description,\n",
    "            auth = auth\n",
    "        )\n",
    "        \n",
    "        print(f\"Created OpenAPI tool: {tool_name}\")\n",
    "        return tool, tool_name\n",
    "\n",
    "print(\"Logic App Integration class was successfully defined\")"
   ]
  },
  {
   "cell_type": "markdown",
   "id": "92cc3a9a",
   "metadata": {},
   "source": [
    "### Logic Apps Tool Setup"
   ]
  },
  {
   "cell_type": "code",
   "execution_count": 4,
   "id": "e2526b4c",
   "metadata": {},
   "outputs": [
    {
     "name": "stdout",
     "output_type": "stream",
     "text": [
      "Initialising Logic App integration...\n",
      "Logic App integration initialised successfully\n"
     ]
    }
   ],
   "source": [
    "# Initialise Logic App integration\n",
    "print(\"Initialising Logic App integration...\")\n",
    "logic_integration = LogicAppsIntegration(\n",
    "    subscription_id = SUBSCRIPTION_ID,\n",
    "    resource_group = RESOURCE_GROUP\n",
    ")\n",
    "\n",
    "print(\"Logic App integration initialised successfully\")"
   ]
  },
  {
   "cell_type": "code",
   "execution_count": 5,
   "id": "509144d5",
   "metadata": {},
   "outputs": [
    {
     "name": "stdout",
     "output_type": "stream",
     "text": [
      "Creating OpenAPI tool with direct callback approach...\n",
      "Retrieved Logic Apps callback URL\n",
      "Creating direct OpenAPI spec using callback URL...\n",
      "Extracted 4 query parameters from callback URL\n",
      "Successfully created OpenAPI spec.\n",
      "Created OpenAPI tool: get_weather\n",
      "OpenAPI tool created successfully: get_weather\n"
     ]
    }
   ],
   "source": [
    "# Create OpenAPI Tool\n",
    "print(\"Creating OpenAPI tool with direct callback approach...\")\n",
    "openapi_tool, tool_name = logic_integration.create_openapi_tool(\n",
    "    logic_app_name = LOGIC_APP_NAME,\n",
    "    trigger_name = TRIGGER_NAME,\n",
    "    tool_name = \"get_weather\",\n",
    "    tool_description = \"Get weather forecast for any location\"\n",
    ")\n",
    "\n",
    "print(f\"OpenAPI tool created successfully: {tool_name}\")"
   ]
  },
  {
   "cell_type": "markdown",
   "id": "66fdeb71",
   "metadata": {},
   "source": [
    "### AI Agent Setup"
   ]
  },
  {
   "cell_type": "code",
   "execution_count": 6,
   "id": "31c6724e",
   "metadata": {},
   "outputs": [
    {
     "name": "stdout",
     "output_type": "stream",
     "text": [
      "Initialising AI Project client...\n",
      "AI Project client initialised successfully\n"
     ]
    }
   ],
   "source": [
    "# Initialise AI Project Client\n",
    "print(\"Initialising AI Project client...\")\n",
    "project_client = AIProjectClient(\n",
    "    endpoint = PROJECT_ENDPOINT,\n",
    "    credential = DefaultAzureCredential(),\n",
    ")\n",
    "\n",
    "agents_client = project_client.agents\n",
    "print(\"AI Project client initialised successfully\")"
   ]
  },
  {
   "cell_type": "code",
   "execution_count": 7,
   "id": "4def041d",
   "metadata": {},
   "outputs": [
    {
     "name": "stdout",
     "output_type": "stream",
     "text": [
      "Creating weather agent...\n",
      "Created agent successfully, ID: asst_IlYsLmuOplq5b8sZqIGqUltn\n"
     ]
    }
   ],
   "source": [
    "# Create AI Agent\n",
    "print(\"Creating weather agent...\")\n",
    "agent = agents_client.create_agent(\n",
    "    model = MODEL_DEPLOYMENT,\n",
    "    name = \"weather-agent\",\n",
    "    instructions = \"You are a helpful weather assistant. When asked about weather, use the get_weather tool with the location provided by the user.\",\n",
    "    tools = openapi_tool.definitions,\n",
    ")\n",
    "\n",
    "print(f\"Created agent successfully, ID: {agent.id}\")"
   ]
  },
  {
   "cell_type": "code",
   "execution_count": 8,
   "id": "40bcef11",
   "metadata": {},
   "outputs": [
    {
     "name": "stdout",
     "output_type": "stream",
     "text": [
      "Creating conversation thread...\n",
      "Created thread successfully, ID: thread_6HPOvvzOjJjQb8jwWIHoR6Q5\n"
     ]
    }
   ],
   "source": [
    "# Create Thread\n",
    "print(\"Creating conversation thread...\")\n",
    "thread = agents_client.threads.create()\n",
    "\n",
    "print(f\"Created thread successfully, ID: {thread.id}\")"
   ]
  },
  {
   "cell_type": "code",
   "execution_count": 9,
   "id": "a09b36b8",
   "metadata": {},
   "outputs": [
    {
     "name": "stdout",
     "output_type": "stream",
     "text": [
      "Creating message and running agent...\n",
      "Created message, ID: msg_77BsMUYeSmGc4JUvSGsa7nzf\n",
      "Run finished with status: RunStatus.COMPLETED\n"
     ]
    }
   ],
   "source": [
    "# Create Message and Run\n",
    "print(\"Creating message and running agent...\")\n",
    "message = agents_client.messages.create(\n",
    "    thread_id = thread.id,\n",
    "    role = \"user\",\n",
    "    content = \"What's the weather in London?\",\n",
    ")\n",
    "\n",
    "print(f\"Created message, ID: {message.id}\")\n",
    "\n",
    "# Create and process run\n",
    "run = agents_client.runs.create_and_process(\n",
    "    thread_id = thread.id,\n",
    "    agent_id = agent.id\n",
    ")\n",
    "\n",
    "print(f\"Run finished with status: {run.status}\")\n",
    "\n",
    "if run.status == \"failed\":\n",
    "    print(f\"Run failed: {run.last_error}\")"
   ]
  },
  {
   "cell_type": "code",
   "execution_count": 10,
   "id": "967d3625",
   "metadata": {},
   "outputs": [
    {
     "name": "stdout",
     "output_type": "stream",
     "text": [
      "Displaying conversation results...\n",
      "Found 2 messages\n",
      "--------------------------------------------------\n",
      "User: What's the weather in London?\n",
      "--------------------------------------------------\n",
      "Assistant: The weather in London is currently cloudy. During the day, the high temperature will be 19°C with wind speeds around 22 km/h coming from the southwest (217°). At night, it will remain cloudy with a low temperature of 17°C and winds around 20 km/h from the south-southwest (202°). The skies are overcast, and there is a chance of light rain. Ultraviolet (UV) levels are low.\n",
      "--------------------------------------------------\n"
     ]
    }
   ],
   "source": [
    "# Display Results\n",
    "print(\"Displaying conversation results...\")\n",
    "messages = agents_client.messages.list(thread_id=thread.id)\n",
    "messages_list = list(messages)\n",
    "print(f\"Found {len(messages_list)} messages\")\n",
    "print(\"-\" * 50)\n",
    "\n",
    "for i, msg in enumerate(reversed(messages_list)):  # Reverse to show chronological order\n",
    "    role = msg.role.capitalize()\n",
    "    \n",
    "    if hasattr(msg, 'content') and msg.content:\n",
    "        try:\n",
    "            if hasattr(msg.content[0], 'text') and hasattr(msg.content[0].text, 'value'):\n",
    "                content = msg.content[0].text.value\n",
    "            else:\n",
    "                content = str(msg.content[0])\n",
    "        except (IndexError, AttributeError):\n",
    "            content = \"No readable content\"\n",
    "    else:\n",
    "        content = \"No content\"\n",
    "    \n",
    "    print(f\"{role}: {content}\")\n",
    "    print(\"-\" * 50)"
   ]
  },
  {
   "cell_type": "markdown",
   "id": "housekeeping_section",
   "metadata": {},
   "source": [
    "### Housekeeping"
   ]
  },
  {
   "cell_type": "code",
   "execution_count": 11,
   "id": "housekeeping_code",
   "metadata": {},
   "outputs": [
    {
     "name": "stdout",
     "output_type": "stream",
     "text": [
      "Deleted thread successfully\n",
      "Deleted weather agent successfully\n",
      "Closed project client connection\n",
      "Cleanup complete!\n"
     ]
    }
   ],
   "source": [
    "# Delete the thread and agent when finished\n",
    "try:\n",
    "    # Delete the thread\n",
    "    agents_client.threads.delete(thread.id)\n",
    "    print(\"Deleted thread successfully\")\n",
    "\n",
    "    # Use the existing agents_client (no need for 'with' block)\n",
    "    agents_client.delete_agent(agent.id)\n",
    "    print(\"Deleted weather agent successfully\")\n",
    "    \n",
    "    # Close the project client\n",
    "    project_client.close()\n",
    "    print(\"Closed project client connection\")\n",
    "    \n",
    "except Exception as e:\n",
    "    print(f\"Error during cleanup: {e}\")\n",
    "\n",
    "print(\"Cleanup complete!\")"
   ]
  }
 ],
 "metadata": {
  "kernelspec": {
   "display_name": "Python 3",
   "language": "python",
   "name": "python3"
  },
  "language_info": {
   "codemirror_mode": {
    "name": "ipython",
    "version": 3
   },
   "file_extension": ".py",
   "mimetype": "text/x-python",
   "name": "python",
   "nbconvert_exporter": "python",
   "pygments_lexer": "ipython3",
   "version": "3.11.9"
  }
 },
 "nbformat": 4,
 "nbformat_minor": 5
}
