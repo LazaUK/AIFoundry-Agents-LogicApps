{
 "cells": [
  {
   "cell_type": "markdown",
   "id": "595a0707",
   "metadata": {},
   "source": [
    "## Azure AI Foundry Agent Service: Logic App tools"
   ]
  },
  {
   "cell_type": "markdown",
   "id": "0fffe4a5",
   "metadata": {},
   "source": [
    "This notebook demonstrates the setup and use of Azure Logic Apps as a tool for Azure AI Foundry's Agent Service, using function calling."
   ]
  },
  {
   "cell_type": "markdown",
   "id": "bfa2c4ea",
   "metadata": {},
   "source": [
    "### Environment Setup"
   ]
  },
  {
   "cell_type": "code",
   "execution_count": 1,
   "id": "cb4b06ec",
   "metadata": {},
   "outputs": [],
   "source": [
    "# Import Required Libraries\n",
    "import os\n",
    "import json\n",
    "import requests\n",
    "from typing import Dict, Any, Callable, Set\n",
    "from datetime import datetime\n",
    "\n",
    "from azure.identity import DefaultAzureCredential\n",
    "from azure.mgmt.logic import LogicManagementClient\n",
    "from azure.ai.projects import AIProjectClient\n",
    "from azure.ai.agents.models import ListSortOrder, ToolSet, FunctionTool"
   ]
  },
  {
   "cell_type": "code",
   "execution_count": 2,
   "id": "74de2d6a",
   "metadata": {},
   "outputs": [],
   "source": [
    "# Set environment variables\n",
    "PROJECT_ENDPOINT = os.environ.get(\"AZURE_FOUNDRY_PROJECT_ENDPOINT\")\n",
    "MODEL_DEPLOYMENT = os.environ.get(\"AZURE_FOUNDRY_GPT_MODEL\")\n",
    "SUBSCRIPTION_ID = os.environ.get(\"AZURE_SUBSCRIPTION_ID\")\n",
    "RESOURCE_GROUP = os.environ.get(\"RESOURCE_GROUP_NAME\", \"App_LogicApp\")\n",
    "\n",
    "LOGIC_APP_NAME = \"Laziz_DemoConsLA\"  # Replace with your Logic App name\n",
    "TRIGGER_NAME = \"HTTP-Trigger\"  # Your trigger name (from your Logic App definition)"
   ]
  },
  {
   "cell_type": "markdown",
   "id": "76fdf5cf",
   "metadata": {},
   "source": [
    "### Helper Class and Functions"
   ]
  },
  {
   "cell_type": "code",
   "execution_count": 3,
   "id": "7c7a57a1",
   "metadata": {},
   "outputs": [],
   "source": [
    "# Azure Logic App Tool Class\n",
    "class AzureLogicAppTool:\n",
    "    \"\"\"\n",
    "    A service that manages Logic Apps by retrieving their callback URLs and invoking them.\n",
    "    \"\"\"\n",
    "\n",
    "    def __init__(self, subscription_id: str, resource_group: str, credential=None):\n",
    "        if credential is None:\n",
    "            credential = DefaultAzureCredential()\n",
    "        self.subscription_id = subscription_id\n",
    "        self.resource_group = resource_group\n",
    "        self.logic_client = LogicManagementClient(credential, subscription_id)\n",
    "        self.callback_urls: Dict[str, str] = {}\n",
    "\n",
    "    def register_logic_app(self, logic_app_name: str, trigger_name: str) -> None:\n",
    "        \"\"\"\n",
    "        Retrieves and stores a callback URL for a specific Logic App + trigger.\n",
    "        \"\"\"\n",
    "        try:\n",
    "            callback = self.logic_client.workflow_triggers.list_callback_url(\n",
    "                resource_group_name=self.resource_group,\n",
    "                workflow_name=logic_app_name,\n",
    "                trigger_name=trigger_name,\n",
    "            )\n",
    "\n",
    "            if callback.value is None:\n",
    "                raise ValueError(f\"No callback URL returned for Logic App '{logic_app_name}'.\")\n",
    "\n",
    "            self.callback_urls[logic_app_name] = callback.value\n",
    "            print(f\"Successfully registered Logic App '{logic_app_name}' with trigger '{trigger_name}'\")\n",
    "            \n",
    "        except Exception as e:\n",
    "            print(f\"Error registering Logic App: {e}\")\n",
    "            raise\n",
    "\n",
    "    def invoke_logic_app(self, logic_app_name: str, payload: Dict[str, Any]) -> Dict[str, Any]:\n",
    "        \"\"\"\n",
    "        Invokes the registered Logic App with the given JSON payload.\n",
    "        \"\"\"\n",
    "        if logic_app_name not in self.callback_urls:\n",
    "            raise ValueError(f\"Logic App '{logic_app_name}' has not been registered.\")\n",
    "\n",
    "        url = self.callback_urls[logic_app_name]\n",
    "        \n",
    "        try:\n",
    "            response = requests.post(url=url, json=payload, timeout=30)\n",
    "            \n",
    "            if response.ok:\n",
    "                try:\n",
    "                    # Try to parse JSON response\n",
    "                    weather_data = response.json()\n",
    "                    return {\"result\": \"success\", \"weather_data\": weather_data}\n",
    "                except json.JSONDecodeError:\n",
    "                    # If not JSON, return the text\n",
    "                    return {\"result\": \"success\", \"data\": response.text}\n",
    "            else:\n",
    "                return {\n",
    "                    \"result\": \"error\", \n",
    "                    \"error\": f\"HTTP {response.status_code}: {response.text}\"\n",
    "                }\n",
    "                \n",
    "        except requests.exceptions.RequestException as e:\n",
    "            return {\"result\": \"error\", \"error\": f\"Request failed: {str(e)}\"}"
   ]
  },
  {
   "cell_type": "code",
   "execution_count": 4,
   "id": "9c283116",
   "metadata": {},
   "outputs": [],
   "source": [
    "# Helper Function - Weather Forecast\n",
    "def create_weather_forecast_function(logic_app_tool: AzureLogicAppTool, logic_app_name: str) -> Callable[[str], str]:\n",
    "    \"\"\"\n",
    "    Creates a weather forecast function that can be used by the AI agent.\n",
    "    \"\"\"\n",
    "    \n",
    "    def get_weather_forecast(location: str) -> str:\n",
    "        \"\"\"\n",
    "        Gets weather forecast for a specific location using the Logic App.\n",
    "        \n",
    "        :param location: The location to get weather forecast for (e.g., \"London\", \"New York\", \"Tokyo\")\n",
    "        :return: A JSON string containing the weather forecast information\n",
    "        \"\"\"\n",
    "        payload = {\"Location\": location}\n",
    "        \n",
    "        try:\n",
    "            result = logic_app_tool.invoke_logic_app(logic_app_name, payload)\n",
    "            \n",
    "            if result.get(\"result\") == \"success\":\n",
    "                weather_info = result.get(\"weather_data\", result.get(\"data\", \"Weather data received\"))\n",
    "                return json.dumps({\n",
    "                    \"status\": \"success\",\n",
    "                    \"location\": location,\n",
    "                    \"forecast\": weather_info\n",
    "                })\n",
    "            else:\n",
    "                return json.dumps({\n",
    "                    \"status\": \"error\",\n",
    "                    \"location\": location,\n",
    "                    \"error\": result.get(\"error\", \"Unknown error occurred\")\n",
    "                })\n",
    "                \n",
    "        except Exception as e:\n",
    "            return json.dumps({\n",
    "                \"status\": \"error\",\n",
    "                \"location\": location,\n",
    "                \"error\": str(e)\n",
    "            })\n",
    "    \n",
    "    return get_weather_forecast"
   ]
  },
  {
   "cell_type": "code",
   "execution_count": 5,
   "id": "6b4331ad",
   "metadata": {},
   "outputs": [],
   "source": [
    "# Helper Function - Timer\n",
    "def get_current_datetime() -> str:\n",
    "    \"\"\"\n",
    "    Returns the current date and time in a readable format.\n",
    "    \"\"\"\n",
    "    return datetime.now().strftime(\"%Y-%m-%d %H:%M:%S\")"
   ]
  },
  {
   "cell_type": "code",
   "execution_count": 6,
   "id": "20e41130",
   "metadata": {},
   "outputs": [],
   "source": [
    "# Helper Function - AI Agent Interaction\n",
    "def ask_weather_agent(question: str) -> None:\n",
    "    \"\"\"\n",
    "    Ask the weather agent a question and display the response.\n",
    "    \"\"\"\n",
    "    print(f\"\\nUser: {question}\")\n",
    "    print(\"=\" * 50)\n",
    "    \n",
    "    try:\n",
    "        # Create a message in the thread (using the global agents_client)\n",
    "        message = agents_client.messages.create(\n",
    "            thread_id = thread.id,\n",
    "            role = \"user\",\n",
    "            content = question,\n",
    "        )\n",
    "        \n",
    "        # Create and process the agent run\n",
    "        run = agents_client.runs.create_and_process(thread_id=thread.id, agent_id=agent.id)\n",
    "        \n",
    "        if run.status == \"completed\":\n",
    "            # Get the latest messages\n",
    "            messages = agents_client.messages.list(thread_id=thread.id, order=ListSortOrder.DESCENDING)\n",
    "            \n",
    "            # Find the agent's response\n",
    "            for msg in messages:\n",
    "                if msg.role == \"assistant\" and msg.text_messages:\n",
    "                    latest_response = msg.text_messages[-1]\n",
    "                    print(f\"Agent: {latest_response.text.value}\")\n",
    "                    break\n",
    "        else:\n",
    "            print(f\"Run failed with status: {run.status}\")\n",
    "            if run.last_error:\n",
    "                print(f\"Error: {run.last_error}\")\n",
    "    \n",
    "    except Exception as e:\n",
    "        print(f\"Error during conversation: {e}\")\n",
    "        \n",
    "    print(\"=\" * 50)"
   ]
  },
  {
   "cell_type": "markdown",
   "id": "33a3bcad",
   "metadata": {},
   "source": [
    "### Components Activation"
   ]
  },
  {
   "cell_type": "code",
   "execution_count": 7,
   "id": "ae8872d0",
   "metadata": {},
   "outputs": [
    {
     "name": "stdout",
     "output_type": "stream",
     "text": [
      "Initialising Logic App tool...\n"
     ]
    }
   ],
   "source": [
    "# Initialise the Logic App tool\n",
    "print(\"Initialising Logic App tool...\")\n",
    "logic_app_tool = AzureLogicAppTool(SUBSCRIPTION_ID, RESOURCE_GROUP)"
   ]
  },
  {
   "cell_type": "code",
   "execution_count": 8,
   "id": "54e0c319",
   "metadata": {},
   "outputs": [
    {
     "name": "stdout",
     "output_type": "stream",
     "text": [
      "Registering Logic App...\n",
      "Successfully registered Logic App 'Laziz_DemoConsLA' with trigger 'HTTP-Trigger'\n"
     ]
    }
   ],
   "source": [
    "# Register the weather Logic App\n",
    "print(\"Registering Logic App...\")\n",
    "logic_app_tool.register_logic_app(LOGIC_APP_NAME, TRIGGER_NAME)"
   ]
  },
  {
   "cell_type": "code",
   "execution_count": 9,
   "id": "fc3f820d",
   "metadata": {},
   "outputs": [
    {
     "name": "stdout",
     "output_type": "stream",
     "text": [
      "Creating weather forecast function...\n",
      "Setup complete!\n"
     ]
    }
   ],
   "source": [
    "# Create the weather forecast function\n",
    "print(\"Creating weather forecast function...\")\n",
    "weather_forecast_func = create_weather_forecast_function(logic_app_tool, LOGIC_APP_NAME)\n",
    "\n",
    "print(\"Setup complete!\")"
   ]
  },
  {
   "cell_type": "markdown",
   "id": "75e3801d",
   "metadata": {},
   "source": [
    "### Direct Tool Testing"
   ]
  },
  {
   "cell_type": "code",
   "execution_count": 10,
   "id": "d3151111",
   "metadata": {},
   "outputs": [
    {
     "name": "stdout",
     "output_type": "stream",
     "text": [
      "Testing weather forecast function...\n",
      "Test result for London:\n",
      "{\n",
      "  \"status\": \"success\",\n",
      "  \"location\": \"London\",\n",
      "  \"forecast\": {\n",
      "    \"responses\": {\n",
      "      \"daily\": {\n",
      "        \"day\": {\n",
      "          \"cap\": \"Rain showers\",\n",
      "          \"pvdrCap\": \"Rain showers\",\n",
      "          \"pvdrWindDir\": \"161\",\n",
      "          \"pvdrWindSpd\": \"20\",\n",
      "          \"icon\": 23,\n",
      "          \"symbol\": \"d2200\",\n",
      "          \"pvdrIcon\": \"23\",\n",
      "          \"urlIcon\": \"http://img-s-msn-com.akamaized.net/tenant/amp/entityid/AAehOqC.img\",\n",
      "          \"precip\": 100.0,\n",
      "          \"wx\": \"SHRA\",\n",
      "          \"sky\": \"BKN\",\n",
      "          \"windDir\": 161,\n",
      "          \"windSpd\": 20.0,\n",
      "          \"summary\": \"Watch for scattered rain showers.  The high will be 19\\u00b0.\",\n",
      "          \"summaries\": [\n",
      "            \"Watch for scattered rain showers.\",\n",
      "            \" The high will be 19\\u00b0.\"\n",
      "          ]\n",
      "        },\n",
      "        \"night\": {\n",
      "          \"cap\": \"Light rain showers\",\n",
      "          \"pvdrCap\": \"Light rain showers\",\n",
      "          \"pvdrWindDir\": \"193\",\n",
      "          \"pvdrWindSpd\": \"17\",\n",
      "          \"icon\": 46,\n",
      "          \"symbol\": \"n3100\",\n",
      "          \"pvdrIcon\": \"46\",\n",
      "          \"urlIcon\": \"http://img-s-msn-com.akamaized.net/tenant/amp/entityid/AAehyQD.img\",\n",
      "          \"precip\": 59.0,\n",
      "          \"wx\": \"-RA\",\n",
      "          \"sky\": \"FEW\",\n",
      "          \"windDir\": 193,\n",
      "          \"windSpd\": 17.0,\n",
      "          \"summary\": \"There will be scattered light rain showers.  The low will be 12\\u00b0.\",\n",
      "          \"summaries\": [\n",
      "            \"There will be scattered light rain showers.\",\n",
      "            \" The low will be 12\\u00b0.\"\n",
      "          ]\n",
      "        },\n",
      "        \"pvdrCap\": \"Rain showers\",\n",
      "        \"pvdrWindDir\": \"161\",\n",
      "        \"pvdrWindSpd\": \"20\",\n",
      "        \"valid\": \"2025-09-09T23:00:00+00:00\",\n",
      "        \"icon\": 23,\n",
      "        \"symbol\": \"d2200\",\n",
      "        \"pvdrIcon\": \"23\",\n",
      "        \"iconUrl\": \"http://img-s-msn-com.akamaized.net/tenant/amp/entityid/AAehOqC.img\",\n",
      "        \"precip\": 100.0,\n",
      "        \"windMax\": 20.0,\n",
      "        \"windMaxDir\": 161,\n",
      "        \"windTh\": 28.8,\n",
      "        \"rhHi\": 83.0,\n",
      "        \"rhLo\": 72.0,\n",
      "        \"tempHi\": 19.0,\n",
      "        \"tempLo\": 12.0,\n",
      "        \"uv\": 3.0,\n",
      "        \"uvDesc\": \"Moderate\",\n",
      "        \"created\": \"2025-09-10T21:45:00+00:00\",\n",
      "        \"rainAmount\": 0.02,\n",
      "        \"snowAmount\": 0.0\n",
      "      },\n",
      "      \"almanac\": {\n",
      "        \"valid\": \"2025-09-09T23:00:00+00:00\",\n",
      "        \"sunrise\": \"2025-09-10T05:26:41+00:00\",\n",
      "        \"sunset\": \"2025-09-10T18:27:27+00:00\",\n",
      "        \"moonrise\": \"2025-09-10T19:09:21+00:00\",\n",
      "        \"moonset\": \"2025-09-10T09:03:52+00:00\",\n",
      "        \"moonState\": \"1\",\n",
      "        \"moonPhase\": \"Waning Gibbous\",\n",
      "        \"moonPhaseCode\": \"WaGi\"\n",
      "      },\n",
      "      \"provider\": {\n",
      "        \"name\": \"Foreca\",\n",
      "        \"url\": \"http://www.foreca.com\"\n",
      "      },\n",
      "      \"source\": {\n",
      "        \"id\": \"102643743\",\n",
      "        \"coordinates\": {\n",
      "          \"lat\": 51.508419036865234,\n",
      "          \"lon\": -0.12553000450134277\n",
      "        },\n",
      "        \"location\": \"London, Greater London, United Kingdom\",\n",
      "        \"utcOffset\": \"01:00:00\",\n",
      "        \"countryCode\": \"GB\"\n",
      "      }\n",
      "    },\n",
      "    \"units\": {\n",
      "      \"system\": \"Metric\",\n",
      "      \"pressure\": \"mb\",\n",
      "      \"temperature\": \"\\u00b0C\",\n",
      "      \"speed\": \"km/h\",\n",
      "      \"height\": \"cm\",\n",
      "      \"distance\": \"km\",\n",
      "      \"time\": \"s\"\n",
      "    },\n",
      "    \"copyright\": \"Copyright \\u00a9 2025 Microsoft and its suppliers. All rights reserved. This API cannot be accessed and the content and any results may not be used, reproduced or transmitted in any manner without express written permission from Microsoft Corporation.\"\n",
      "  }\n",
      "}\n"
     ]
    }
   ],
   "source": [
    "# Test the weather function directly\n",
    "print(\"Testing weather forecast function...\")\n",
    "test_location = \"London\"\n",
    "result = weather_forecast_func(test_location)\n",
    "\n",
    "print(f\"Test result for {test_location}:\")\n",
    "print(json.dumps(json.loads(result), indent=2))"
   ]
  },
  {
   "cell_type": "markdown",
   "id": "92cc3a9a",
   "metadata": {},
   "source": [
    "### AI Agent Setup"
   ]
  },
  {
   "cell_type": "code",
   "execution_count": 11,
   "id": "4764a999",
   "metadata": {},
   "outputs": [
    {
     "name": "stdout",
     "output_type": "stream",
     "text": [
      "Creating AI Project client...\n"
     ]
    }
   ],
   "source": [
    "# Create the AI Project client\n",
    "print(\"Creating AI Project client...\")\n",
    "project_client = AIProjectClient(\n",
    "    endpoint = PROJECT_ENDPOINT,\n",
    "    credential = DefaultAzureCredential(),\n",
    ")"
   ]
  },
  {
   "cell_type": "code",
   "execution_count": 12,
   "id": "b0111257",
   "metadata": {},
   "outputs": [
    {
     "name": "stdout",
     "output_type": "stream",
     "text": [
      "Setting up agent tools...\n",
      "Creating weather agent...\n",
      "Created weather agent with ID: asst_P24uYTY3zZhH2VFnP6on62lt\n",
      "Creating conversation thread...\n",
      "Created thread with ID: thread_au3fmRys3MadIZTnCppkDHmf\n",
      "Agent is ready! You can now interact with it.\n"
     ]
    }
   ],
   "source": [
    "# Prepare function tools for the agent\n",
    "functions_to_use: Set = {\n",
    "    get_current_datetime,\n",
    "    weather_forecast_func,\n",
    "}\n",
    "\n",
    "print(\"Setting up agent tools...\")\n",
    "agents_client = project_client.agents\n",
    "\n",
    "# Create function tools\n",
    "functions = FunctionTool(functions=functions_to_use)\n",
    "toolset = ToolSet()\n",
    "toolset.add(functions)\n",
    "\n",
    "# Enable automatic function calls\n",
    "agents_client.enable_auto_function_calls(toolset)\n",
    "\n",
    "# Create the weather agent\n",
    "print(\"Creating weather agent...\")\n",
    "agent = agents_client.create_agent(\n",
    "    model = MODEL_DEPLOYMENT,\n",
    "    name = \"WeatherForecastAgent\",\n",
    "    instructions = \"\"\"You are a helpful weather assistant agent. You can:\n",
    "    1. Get current date and time\n",
    "    2. Provide weather forecasts for any location using the Logic App\n",
    "        \n",
    "    When users ask for weather information, use the get_weather_forecast function with the location they specify.\n",
    "    Present the weather information in a friendly and readable format.\n",
    "    Always include the current date and time when providing forecasts.\"\"\",\n",
    "    toolset = toolset,\n",
    ")\n",
    "print(f\"Created weather agent with ID: {agent.id}\")\n",
    "\n",
    "# Create a conversation thread\n",
    "print(\"Creating conversation thread...\")\n",
    "thread = agents_client.threads.create()\n",
    "print(f\"Created thread with ID: {thread.id}\")\n",
    "\n",
    "print(\"Agent is ready! You can now interact with it.\")"
   ]
  },
  {
   "cell_type": "markdown",
   "id": "832e5f6e",
   "metadata": {},
   "source": [
    "### AI Agent Testing"
   ]
  },
  {
   "cell_type": "code",
   "execution_count": 13,
   "id": "42d169f5",
   "metadata": {},
   "outputs": [
    {
     "name": "stdout",
     "output_type": "stream",
     "text": [
      "\n",
      "User: What's the weather like in Paris today?\n",
      "==================================================\n",
      "Agent: As of today, September 10, 2025, in Paris:\n",
      "\n",
      "- Expect scattered rain showers throughout the day.\n",
      "- The high temperature will reach around 21°C.\n",
      "- Wind will be coming from the south-southwest at about 15 km/h.\n",
      "- During the night, rain showers will continue with a low around 13°C and winds at 13 km/h from the south.\n",
      "\n",
      "So, it's a rainy day with moderate temperatures. Make sure to carry an umbrella if you are heading out!\n",
      "\n",
      "If you need more detailed information or forecast for another day, just let me know!\n",
      "==================================================\n"
     ]
    }
   ],
   "source": [
    "# Example 1: Simple weather query\n",
    "ask_weather_agent(\"What's the weather like in Paris today?\")"
   ]
  },
  {
   "cell_type": "code",
   "execution_count": 14,
   "id": "5a1aa4f8",
   "metadata": {},
   "outputs": [
    {
     "name": "stdout",
     "output_type": "stream",
     "text": [
      "\n",
      "User: Can you tell me the weather forecast for Tokyo and New York?\n",
      "==================================================\n",
      "Agent: Here is the weather forecast for today, September 10, 2025:\n",
      "\n",
      "Tokyo:\n",
      "- Scattered rain showers during the day with a high of 30°C, quite humid.\n",
      "- Heavy rain expected at night with a low of 23°C.\n",
      "- Winds from the north-northeast at 18 km/h during the day and from the northeast at 16 km/h at night.\n",
      "\n",
      "New York:\n",
      "- Partly sunny skies during the day with a high of 23°C.\n",
      "- Mostly clear skies at night with a low of 16°C.\n",
      "- Winds coming from the northeast at 10 km/h during the day and from the northwest at 4 km/h at night.\n",
      "\n",
      "Let me know if you'd like more details or forecasts for other locations!\n",
      "==================================================\n"
     ]
    }
   ],
   "source": [
    "# Example 2: Multiple locations\n",
    "ask_weather_agent(\"Can you tell me the weather forecast for Tokyo and New York?\")"
   ]
  },
  {
   "cell_type": "code",
   "execution_count": 15,
   "id": "dccdb10f",
   "metadata": {},
   "outputs": [
    {
     "name": "stdout",
     "output_type": "stream",
     "text": [
      "\n",
      "User: What's the current time and weather forecast for Sydney?\n",
      "==================================================\n",
      "Agent: The current date and time is September 10, 2025.\n",
      "\n",
      "In Sydney today:\n",
      "- Heavy rain is expected during the daytime hours.\n",
      "- The high temperature will be around 16°C on this breezy day with winds coming from the southwest at 32 km/h.\n",
      "- At night, the skies will be partly cloudy with a low of 10°C and winds at 14 km/h from the west-southwest.\n",
      "\n",
      "If you need more information or forecasts for another location, feel free to ask!\n",
      "==================================================\n"
     ]
    }
   ],
   "source": [
    "# Example 3: Weather with time context\n",
    "ask_weather_agent(\"What's the current time and weather forecast for Sydney?\")"
   ]
  },
  {
   "cell_type": "markdown",
   "id": "38130cb0",
   "metadata": {},
   "source": [
    "### Housekeeping"
   ]
  },
  {
   "cell_type": "code",
   "execution_count": 16,
   "id": "393de1f9",
   "metadata": {},
   "outputs": [
    {
     "name": "stdout",
     "output_type": "stream",
     "text": [
      "Deleted thread successfully\n",
      "Deleted weather agent successfully\n",
      "Closed project client connection\n",
      "Cleanup complete!\n"
     ]
    }
   ],
   "source": [
    "# Delete the thread and agent when finished\n",
    "try:\n",
    "    # Delete the thread\n",
    "    agents_client.threads.delete(thread.id)\n",
    "    print(\"Deleted thread successfully\")\n",
    "\n",
    "    # Use the existing agents_client (no need for 'with' block)\n",
    "    agents_client.delete_agent(agent.id)\n",
    "    print(\"Deleted weather agent successfully\")\n",
    "    \n",
    "    # Close the project client\n",
    "    project_client.close()\n",
    "    print(\"Closed project client connection\")\n",
    "    \n",
    "except Exception as e:\n",
    "    print(f\"Error during cleanup: {e}\")\n",
    "\n",
    "print(\"Cleanup complete!\")"
   ]
  }
 ],
 "metadata": {
  "kernelspec": {
   "display_name": "Python 3",
   "language": "python",
   "name": "python3"
  },
  "language_info": {
   "codemirror_mode": {
    "name": "ipython",
    "version": 3
   },
   "file_extension": ".py",
   "mimetype": "text/x-python",
   "name": "python",
   "nbconvert_exporter": "python",
   "pygments_lexer": "ipython3",
   "version": "3.11.9"
  }
 },
 "nbformat": 4,
 "nbformat_minor": 5
}
